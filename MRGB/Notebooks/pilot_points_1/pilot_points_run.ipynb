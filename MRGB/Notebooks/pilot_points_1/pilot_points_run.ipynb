{
 "cells": [
  {
   "cell_type": "markdown",
   "metadata": {},
   "source": [
    "## This notebook is used to run the pilot point calibration generated in the notebook 'pilot_point_setup'"
   ]
  },
  {
   "cell_type": "code",
   "execution_count": 1,
   "metadata": {},
   "outputs": [],
   "source": [
    "%matplotlib inline\n",
    "import os, shutil\n",
    "import sys\n",
    "sys.path.append(\"..\")\n",
    "import numpy as np\n",
    "from IPython.display import Image\n",
    "import pandas as pd\n",
    "import matplotlib.pyplot as plt\n",
    "\n",
    "import flopy as flopy\n",
    "import pyemu"
   ]
  },
  {
   "cell_type": "markdown",
   "metadata": {},
   "source": [
    "### Explore the files that were created.\n",
    "#### a few things to check:\n",
    "\n",
    "* how many pilot points are there?"
   ]
  },
  {
   "cell_type": "code",
   "execution_count": 2,
   "metadata": {},
   "outputs": [],
   "source": [
    "working_dir = 'MF2005_dbl'\n",
    "pst_name = 'mrgb05.pst'"
   ]
  },
  {
   "cell_type": "code",
   "execution_count": 3,
   "metadata": {},
   "outputs": [],
   "source": [
    "pst = pyemu.Pst(os.path.join(working_dir,pst_name))"
   ]
  },
  {
   "cell_type": "code",
   "execution_count": 4,
   "metadata": {},
   "outputs": [],
   "source": [
    "# set noptmax to zero to make sure everything's working ok\n",
    "pst.control_data.noptmax = 0\n",
    "pst.write(os.path.join(working_dir,pst_name))"
   ]
  },
  {
   "cell_type": "code",
   "execution_count": 5,
   "metadata": {},
   "outputs": [
    {
     "data": {
      "text/plain": [
       "{}"
      ]
     },
     "execution_count": 5,
     "metadata": {},
     "output_type": "execute_result"
    }
   ],
   "source": [
    "# may need to use SVD-A if npar is large\n",
    "pst.npar\n",
    "pst.pestpp_options"
   ]
  },
  {
   "cell_type": "code",
   "execution_count": null,
   "metadata": {},
   "outputs": [],
   "source": [
    "#pyemu.helpers.run(\"tempchek mrgb.par.tpl\",cwd=working_dir)"
   ]
  },
  {
   "cell_type": "code",
   "execution_count": 6,
   "metadata": {},
   "outputs": [
    {
     "name": "stdout",
     "output_type": "stream",
     "text": [
      "run():inschek sim._os.ins sim._os\n"
     ]
    }
   ],
   "source": [
    "pyemu.helpers.run(\"inschek sim._os.ins sim._os\",cwd=working_dir)"
   ]
  },
  {
   "cell_type": "code",
   "execution_count": 7,
   "metadata": {},
   "outputs": [
    {
     "name": "stdout",
     "output_type": "stream",
     "text": [
      "run():./pestchek mrgb05.pst\n"
     ]
    }
   ],
   "source": [
    "# run PESTCHEK\n",
    "pyemu.helpers.run(\"pestchek {0}\".format(pst_name),cwd=working_dir)"
   ]
  },
  {
   "cell_type": "code",
   "execution_count": 7,
   "metadata": {},
   "outputs": [
    {
     "name": "stdout",
     "output_type": "stream",
     "text": [
      "run():pestpp.exe mrgb05.pst\n"
     ]
    }
   ],
   "source": [
    "# Run PEST++\n",
    "pyemu.helpers.run(\"pestpp {0} \".format(pst_name),cwd=working_dir)"
   ]
  },
  {
   "cell_type": "code",
   "execution_count": 8,
   "metadata": {},
   "outputs": [],
   "source": [
    "# change noptmax to calibrate the model - this could take a while\n",
    "pst.control_data.noptmax = 1\n",
    "pst.write(os.path.join(working_dir,pst_name))"
   ]
  },
  {
   "cell_type": "code",
   "execution_count": 10,
   "metadata": {},
   "outputs": [
    {
     "name": "stdout",
     "output_type": "stream",
     "text": [
      "run():pestpp.exe mrgb05.pst\n"
     ]
    }
   ],
   "source": [
    "pyemu.helpers.run(\"pestpp {0} \".format(pst_name),cwd=working_dir)"
   ]
  },
  {
   "cell_type": "code",
   "execution_count": null,
   "metadata": {},
   "outputs": [
    {
     "name": "stdout",
     "output_type": "stream",
     "text": [
      "master:./pestpp mrgb.pst /h :4004 in .\n",
      "slave:./pestpp mrgb.pst /h localhost:4004 in ../slave_0\n",
      "slave:./pestpp mrgb.pst /h localhost:4004 in ../slave_1\n",
      "slave:./pestpp mrgb.pst /h localhost:4004 in ../slave_2\n",
      "slave:./pestpp mrgb.pst /h localhost:4004 in ../slave_3\n",
      "slave:./pestpp mrgb.pst /h localhost:4004 in ../slave_4\n",
      "slave:./pestpp mrgb.pst /h localhost:4004 in ../slave_5\n",
      "slave:./pestpp mrgb.pst /h localhost:4004 in ../slave_6\n",
      "slave:./pestpp mrgb.pst /h localhost:4004 in ../slave_7\n",
      "slave:./pestpp mrgb.pst /h localhost:4004 in ../slave_8\n",
      "slave:./pestpp mrgb.pst /h localhost:4004 in ../slave_9\n",
      "slave:./pestpp mrgb.pst /h localhost:4004 in ../slave_10\n",
      "slave:./pestpp mrgb.pst /h localhost:4004 in ../slave_11\n",
      "slave:./pestpp mrgb.pst /h localhost:4004 in ../slave_12\n",
      "slave:./pestpp mrgb.pst /h localhost:4004 in ../slave_13\n",
      "slave:./pestpp mrgb.pst /h localhost:4004 in ../slave_14\n"
     ]
    }
   ],
   "source": [
    "# you could use the parallel functionality in PEST++\n",
    "os.chdir(working_dir)\n",
    "pyemu.helpers.start_slaves('.',\"pestpp\",pst_name,num_slaves=15,master_dir='.')\n",
    "os.chdir('..')"
   ]
  },
  {
   "cell_type": "markdown",
   "metadata": {},
   "source": [
    "### Check the calibration results:"
   ]
  },
  {
   "cell_type": "code",
   "execution_count": 14,
   "metadata": {},
   "outputs": [
    {
     "data": {
      "text/plain": [
       "926912.63051786227"
      ]
     },
     "execution_count": 14,
     "metadata": {},
     "output_type": "execute_result"
    }
   ],
   "source": [
    "pst.phi"
   ]
  },
  {
   "cell_type": "code",
   "execution_count": 15,
   "metadata": {
    "scrolled": true
   },
   "outputs": [
    {
     "data": {
      "text/html": [
       "<div>\n",
       "<style scoped>\n",
       "    .dataframe tbody tr th:only-of-type {\n",
       "        vertical-align: middle;\n",
       "    }\n",
       "\n",
       "    .dataframe tbody tr th {\n",
       "        vertical-align: top;\n",
       "    }\n",
       "\n",
       "    .dataframe thead th {\n",
       "        text-align: right;\n",
       "    }\n",
       "</style>\n",
       "<table border=\"1\" class=\"dataframe\">\n",
       "  <thead>\n",
       "    <tr style=\"text-align: right;\">\n",
       "      <th></th>\n",
       "      <th>name</th>\n",
       "      <th>group</th>\n",
       "      <th>measured</th>\n",
       "      <th>modelled</th>\n",
       "      <th>residual</th>\n",
       "      <th>weight</th>\n",
       "    </tr>\n",
       "    <tr>\n",
       "      <th>name</th>\n",
       "      <th></th>\n",
       "      <th></th>\n",
       "      <th></th>\n",
       "      <th></th>\n",
       "      <th></th>\n",
       "      <th></th>\n",
       "    </tr>\n",
       "  </thead>\n",
       "  <tbody>\n",
       "    <tr>\n",
       "      <th>a001</th>\n",
       "      <td>a001</td>\n",
       "      <td>obgnme</td>\n",
       "      <td>5.524717e+03</td>\n",
       "      <td>5515.260601</td>\n",
       "      <td>9.456399</td>\n",
       "      <td>1.0</td>\n",
       "    </tr>\n",
       "    <tr>\n",
       "      <th>a002</th>\n",
       "      <td>a002</td>\n",
       "      <td>obgnme</td>\n",
       "      <td>5.227227e+03</td>\n",
       "      <td>5220.806835</td>\n",
       "      <td>6.420165</td>\n",
       "      <td>1.0</td>\n",
       "    </tr>\n",
       "    <tr>\n",
       "      <th>a003</th>\n",
       "      <td>a003</td>\n",
       "      <td>obgnme</td>\n",
       "      <td>5.260892e+03</td>\n",
       "      <td>5221.576771</td>\n",
       "      <td>39.315229</td>\n",
       "      <td>1.0</td>\n",
       "    </tr>\n",
       "    <tr>\n",
       "      <th>a005</th>\n",
       "      <td>a005</td>\n",
       "      <td>obgnme</td>\n",
       "      <td>5.465481e+03</td>\n",
       "      <td>5453.810542</td>\n",
       "      <td>11.670458</td>\n",
       "      <td>1.0</td>\n",
       "    </tr>\n",
       "    <tr>\n",
       "      <th>a006</th>\n",
       "      <td>a006</td>\n",
       "      <td>obgnme</td>\n",
       "      <td>5.500308e+03</td>\n",
       "      <td>5485.280405</td>\n",
       "      <td>15.027595</td>\n",
       "      <td>1.0</td>\n",
       "    </tr>\n",
       "    <tr>\n",
       "      <th>a007</th>\n",
       "      <td>a007</td>\n",
       "      <td>obgnme</td>\n",
       "      <td>5.254099e+03</td>\n",
       "      <td>5218.176713</td>\n",
       "      <td>35.922287</td>\n",
       "      <td>1.0</td>\n",
       "    </tr>\n",
       "    <tr>\n",
       "      <th>a008</th>\n",
       "      <td>a008</td>\n",
       "      <td>obgnme</td>\n",
       "      <td>5.274993e+03</td>\n",
       "      <td>5221.189367</td>\n",
       "      <td>53.803633</td>\n",
       "      <td>1.0</td>\n",
       "    </tr>\n",
       "    <tr>\n",
       "      <th>a013</th>\n",
       "      <td>a013</td>\n",
       "      <td>obgnme</td>\n",
       "      <td>5.222653e+03</td>\n",
       "      <td>5201.644829</td>\n",
       "      <td>21.008171</td>\n",
       "      <td>1.0</td>\n",
       "    </tr>\n",
       "    <tr>\n",
       "      <th>a014</th>\n",
       "      <td>a014</td>\n",
       "      <td>obgnme</td>\n",
       "      <td>5.226907e+03</td>\n",
       "      <td>5201.399616</td>\n",
       "      <td>25.507384</td>\n",
       "      <td>1.0</td>\n",
       "    </tr>\n",
       "    <tr>\n",
       "      <th>a017</th>\n",
       "      <td>a017</td>\n",
       "      <td>obgnme</td>\n",
       "      <td>5.390671e+03</td>\n",
       "      <td>5246.816837</td>\n",
       "      <td>143.854163</td>\n",
       "      <td>1.0</td>\n",
       "    </tr>\n",
       "    <tr>\n",
       "      <th>a019</th>\n",
       "      <td>a019</td>\n",
       "      <td>obgnme</td>\n",
       "      <td>5.399138e+03</td>\n",
       "      <td>5359.634202</td>\n",
       "      <td>39.503798</td>\n",
       "      <td>1.0</td>\n",
       "    </tr>\n",
       "    <tr>\n",
       "      <th>a021</th>\n",
       "      <td>a021</td>\n",
       "      <td>obgnme</td>\n",
       "      <td>5.227142e+03</td>\n",
       "      <td>5196.432196</td>\n",
       "      <td>30.709804</td>\n",
       "      <td>1.0</td>\n",
       "    </tr>\n",
       "    <tr>\n",
       "      <th>a022</th>\n",
       "      <td>a022</td>\n",
       "      <td>obgnme</td>\n",
       "      <td>5.281404e+03</td>\n",
       "      <td>5283.878570</td>\n",
       "      <td>-2.474570</td>\n",
       "      <td>1.0</td>\n",
       "    </tr>\n",
       "    <tr>\n",
       "      <th>a024</th>\n",
       "      <td>a024</td>\n",
       "      <td>obgnme</td>\n",
       "      <td>5.395521e+03</td>\n",
       "      <td>5352.524329</td>\n",
       "      <td>42.996671</td>\n",
       "      <td>1.0</td>\n",
       "    </tr>\n",
       "    <tr>\n",
       "      <th>a025</th>\n",
       "      <td>a025</td>\n",
       "      <td>obgnme</td>\n",
       "      <td>5.418905e+03</td>\n",
       "      <td>5374.497930</td>\n",
       "      <td>44.407070</td>\n",
       "      <td>1.0</td>\n",
       "    </tr>\n",
       "    <tr>\n",
       "      <th>a028</th>\n",
       "      <td>a028</td>\n",
       "      <td>obgnme</td>\n",
       "      <td>5.370526e+03</td>\n",
       "      <td>5328.625718</td>\n",
       "      <td>41.900282</td>\n",
       "      <td>1.0</td>\n",
       "    </tr>\n",
       "    <tr>\n",
       "      <th>a032</th>\n",
       "      <td>a032</td>\n",
       "      <td>obgnme</td>\n",
       "      <td>5.374661e+03</td>\n",
       "      <td>5342.141463</td>\n",
       "      <td>32.519537</td>\n",
       "      <td>1.0</td>\n",
       "    </tr>\n",
       "    <tr>\n",
       "      <th>a039</th>\n",
       "      <td>a039</td>\n",
       "      <td>obgnme</td>\n",
       "      <td>5.306561e+03</td>\n",
       "      <td>5274.573942</td>\n",
       "      <td>31.987058</td>\n",
       "      <td>1.0</td>\n",
       "    </tr>\n",
       "    <tr>\n",
       "      <th>a041</th>\n",
       "      <td>a041</td>\n",
       "      <td>obgnme</td>\n",
       "      <td>5.293573e+03</td>\n",
       "      <td>5272.611206</td>\n",
       "      <td>20.961794</td>\n",
       "      <td>1.0</td>\n",
       "    </tr>\n",
       "    <tr>\n",
       "      <th>a043</th>\n",
       "      <td>a043</td>\n",
       "      <td>obgnme</td>\n",
       "      <td>5.200382e+03</td>\n",
       "      <td>5180.643477</td>\n",
       "      <td>19.738523</td>\n",
       "      <td>1.0</td>\n",
       "    </tr>\n",
       "    <tr>\n",
       "      <th>a045</th>\n",
       "      <td>a045</td>\n",
       "      <td>obgnme</td>\n",
       "      <td>5.274732e+03</td>\n",
       "      <td>5238.720378</td>\n",
       "      <td>36.011622</td>\n",
       "      <td>1.0</td>\n",
       "    </tr>\n",
       "    <tr>\n",
       "      <th>a047</th>\n",
       "      <td>a047</td>\n",
       "      <td>obgnme</td>\n",
       "      <td>5.198878e+03</td>\n",
       "      <td>5175.518176</td>\n",
       "      <td>23.359824</td>\n",
       "      <td>1.0</td>\n",
       "    </tr>\n",
       "    <tr>\n",
       "      <th>a049</th>\n",
       "      <td>a049</td>\n",
       "      <td>obgnme</td>\n",
       "      <td>5.242889e+03</td>\n",
       "      <td>5204.604287</td>\n",
       "      <td>38.284713</td>\n",
       "      <td>1.0</td>\n",
       "    </tr>\n",
       "    <tr>\n",
       "      <th>a054</th>\n",
       "      <td>a054</td>\n",
       "      <td>obgnme</td>\n",
       "      <td>5.216373e+03</td>\n",
       "      <td>5213.303663</td>\n",
       "      <td>3.069337</td>\n",
       "      <td>1.0</td>\n",
       "    </tr>\n",
       "    <tr>\n",
       "      <th>a056</th>\n",
       "      <td>a056</td>\n",
       "      <td>obgnme</td>\n",
       "      <td>5.196596e+03</td>\n",
       "      <td>5163.962210</td>\n",
       "      <td>32.633790</td>\n",
       "      <td>1.0</td>\n",
       "    </tr>\n",
       "    <tr>\n",
       "      <th>a057</th>\n",
       "      <td>a057</td>\n",
       "      <td>obgnme</td>\n",
       "      <td>5.125307e+03</td>\n",
       "      <td>5114.788885</td>\n",
       "      <td>10.518115</td>\n",
       "      <td>1.0</td>\n",
       "    </tr>\n",
       "    <tr>\n",
       "      <th>a060</th>\n",
       "      <td>a060</td>\n",
       "      <td>obgnme</td>\n",
       "      <td>5.128988e+03</td>\n",
       "      <td>5126.938178</td>\n",
       "      <td>2.049822</td>\n",
       "      <td>1.0</td>\n",
       "    </tr>\n",
       "    <tr>\n",
       "      <th>a066</th>\n",
       "      <td>a066</td>\n",
       "      <td>obgnme</td>\n",
       "      <td>5.070194e+03</td>\n",
       "      <td>5063.313476</td>\n",
       "      <td>6.880524</td>\n",
       "      <td>1.0</td>\n",
       "    </tr>\n",
       "    <tr>\n",
       "      <th>a068</th>\n",
       "      <td>a068</td>\n",
       "      <td>obgnme</td>\n",
       "      <td>5.068429e+03</td>\n",
       "      <td>5056.146933</td>\n",
       "      <td>12.282067</td>\n",
       "      <td>1.0</td>\n",
       "    </tr>\n",
       "    <tr>\n",
       "      <th>a069</th>\n",
       "      <td>a069</td>\n",
       "      <td>obgnme</td>\n",
       "      <td>5.067608e+03</td>\n",
       "      <td>5063.401091</td>\n",
       "      <td>4.206909</td>\n",
       "      <td>1.0</td>\n",
       "    </tr>\n",
       "    <tr>\n",
       "      <th>...</th>\n",
       "      <td>...</td>\n",
       "      <td>...</td>\n",
       "      <td>...</td>\n",
       "      <td>...</td>\n",
       "      <td>...</td>\n",
       "      <td>...</td>\n",
       "    </tr>\n",
       "    <tr>\n",
       "      <th>intlb3_96.84</th>\n",
       "      <td>intlb3_96.84</td>\n",
       "      <td>obgnme</td>\n",
       "      <td>-9.513073e-04</td>\n",
       "      <td>-3.478937</td>\n",
       "      <td>3.477986</td>\n",
       "      <td>1.0</td>\n",
       "    </tr>\n",
       "    <tr>\n",
       "      <th>intlb3_97.25</th>\n",
       "      <td>intlb3_97.25</td>\n",
       "      <td>obgnme</td>\n",
       "      <td>-1.158664e-03</td>\n",
       "      <td>-3.152139</td>\n",
       "      <td>3.150980</td>\n",
       "      <td>1.0</td>\n",
       "    </tr>\n",
       "    <tr>\n",
       "      <th>intlb3_97.84</th>\n",
       "      <td>intlb3_97.84</td>\n",
       "      <td>obgnme</td>\n",
       "      <td>-1.620155e-03</td>\n",
       "      <td>-3.728773</td>\n",
       "      <td>3.727153</td>\n",
       "      <td>1.0</td>\n",
       "    </tr>\n",
       "    <tr>\n",
       "      <th>intlb3_98.25</th>\n",
       "      <td>intlb3_98.25</td>\n",
       "      <td>obgnme</td>\n",
       "      <td>-1.810187e-03</td>\n",
       "      <td>-3.332630</td>\n",
       "      <td>3.330819</td>\n",
       "      <td>1.0</td>\n",
       "    </tr>\n",
       "    <tr>\n",
       "      <th>intlb3_98.92</th>\n",
       "      <td>intlb3_98.92</td>\n",
       "      <td>obgnme</td>\n",
       "      <td>-2.313886e-03</td>\n",
       "      <td>-3.647321</td>\n",
       "      <td>3.645007</td>\n",
       "      <td>1.0</td>\n",
       "    </tr>\n",
       "    <tr>\n",
       "      <th>intlb3_99.25</th>\n",
       "      <td>intlb3_99.25</td>\n",
       "      <td>obgnme</td>\n",
       "      <td>-2.477930e-03</td>\n",
       "      <td>-3.114424</td>\n",
       "      <td>3.111946</td>\n",
       "      <td>1.0</td>\n",
       "    </tr>\n",
       "    <tr>\n",
       "      <th>sadep_85.63</th>\n",
       "      <td>sadep_85.63</td>\n",
       "      <td>obgnme</td>\n",
       "      <td>5.273422e+03</td>\n",
       "      <td>5221.768115</td>\n",
       "      <td>51.653885</td>\n",
       "      <td>1.0</td>\n",
       "    </tr>\n",
       "    <tr>\n",
       "      <th>sadep_86.01</th>\n",
       "      <td>sadep_86.01</td>\n",
       "      <td>obgnme</td>\n",
       "      <td>-1.194867e-07</td>\n",
       "      <td>-0.001135</td>\n",
       "      <td>0.001135</td>\n",
       "      <td>1.0</td>\n",
       "    </tr>\n",
       "    <tr>\n",
       "      <th>sadep_87.08</th>\n",
       "      <td>sadep_87.08</td>\n",
       "      <td>obgnme</td>\n",
       "      <td>-4.732765e-07</td>\n",
       "      <td>0.003601</td>\n",
       "      <td>-0.003602</td>\n",
       "      <td>1.0</td>\n",
       "    </tr>\n",
       "    <tr>\n",
       "      <th>sadep_87.89</th>\n",
       "      <td>sadep_87.89</td>\n",
       "      <td>obgnme</td>\n",
       "      <td>-7.584822e-07</td>\n",
       "      <td>0.002688</td>\n",
       "      <td>-0.002689</td>\n",
       "      <td>1.0</td>\n",
       "    </tr>\n",
       "    <tr>\n",
       "      <th>samid_85.63</th>\n",
       "      <td>samid_85.63</td>\n",
       "      <td>obgnme</td>\n",
       "      <td>5.273505e+03</td>\n",
       "      <td>5229.158504</td>\n",
       "      <td>44.346496</td>\n",
       "      <td>1.0</td>\n",
       "    </tr>\n",
       "    <tr>\n",
       "      <th>samid_86.01</th>\n",
       "      <td>samid_86.01</td>\n",
       "      <td>obgnme</td>\n",
       "      <td>-7.019780e-07</td>\n",
       "      <td>-0.003690</td>\n",
       "      <td>0.003689</td>\n",
       "      <td>1.0</td>\n",
       "    </tr>\n",
       "    <tr>\n",
       "      <th>samid_87.08</th>\n",
       "      <td>samid_87.08</td>\n",
       "      <td>obgnme</td>\n",
       "      <td>-2.772970e-06</td>\n",
       "      <td>-0.007338</td>\n",
       "      <td>0.007335</td>\n",
       "      <td>1.0</td>\n",
       "    </tr>\n",
       "    <tr>\n",
       "      <th>samid_87.89</th>\n",
       "      <td>samid_87.89</td>\n",
       "      <td>obgnme</td>\n",
       "      <td>-4.433767e-06</td>\n",
       "      <td>-0.011817</td>\n",
       "      <td>0.011813</td>\n",
       "      <td>1.0</td>\n",
       "    </tr>\n",
       "    <tr>\n",
       "      <th>satop_85.63</th>\n",
       "      <td>satop_85.63</td>\n",
       "      <td>obgnme</td>\n",
       "      <td>5.273579e+03</td>\n",
       "      <td>5237.297804</td>\n",
       "      <td>36.281196</td>\n",
       "      <td>1.0</td>\n",
       "    </tr>\n",
       "    <tr>\n",
       "      <th>satop_86.01</th>\n",
       "      <td>satop_86.01</td>\n",
       "      <td>obgnme</td>\n",
       "      <td>-9.258194e-06</td>\n",
       "      <td>-0.006574</td>\n",
       "      <td>0.006565</td>\n",
       "      <td>1.0</td>\n",
       "    </tr>\n",
       "    <tr>\n",
       "      <th>satop_87.08</th>\n",
       "      <td>satop_87.08</td>\n",
       "      <td>obgnme</td>\n",
       "      <td>-3.557103e-05</td>\n",
       "      <td>-0.020033</td>\n",
       "      <td>0.019997</td>\n",
       "      <td>1.0</td>\n",
       "    </tr>\n",
       "    <tr>\n",
       "      <th>satop_87.89</th>\n",
       "      <td>satop_87.89</td>\n",
       "      <td>obgnme</td>\n",
       "      <td>-5.559218e-05</td>\n",
       "      <td>-0.028728</td>\n",
       "      <td>0.028672</td>\n",
       "      <td>1.0</td>\n",
       "    </tr>\n",
       "    <tr>\n",
       "      <th>ziadep_85.63</th>\n",
       "      <td>ziadep_85.63</td>\n",
       "      <td>obgnme</td>\n",
       "      <td>5.370050e+03</td>\n",
       "      <td>5311.184709</td>\n",
       "      <td>58.865291</td>\n",
       "      <td>1.0</td>\n",
       "    </tr>\n",
       "    <tr>\n",
       "      <th>ziadep_86.01</th>\n",
       "      <td>ziadep_86.01</td>\n",
       "      <td>obgnme</td>\n",
       "      <td>5.339998e-06</td>\n",
       "      <td>-0.030853</td>\n",
       "      <td>0.030858</td>\n",
       "      <td>1.0</td>\n",
       "    </tr>\n",
       "    <tr>\n",
       "      <th>ziadep_87.08</th>\n",
       "      <td>ziadep_87.08</td>\n",
       "      <td>obgnme</td>\n",
       "      <td>2.067618e-05</td>\n",
       "      <td>-0.076597</td>\n",
       "      <td>0.076618</td>\n",
       "      <td>1.0</td>\n",
       "    </tr>\n",
       "    <tr>\n",
       "      <th>ziadep_87.89</th>\n",
       "      <td>ziadep_87.89</td>\n",
       "      <td>obgnme</td>\n",
       "      <td>3.252473e-05</td>\n",
       "      <td>-0.125342</td>\n",
       "      <td>0.125374</td>\n",
       "      <td>1.0</td>\n",
       "    </tr>\n",
       "    <tr>\n",
       "      <th>ziamid_85.63</th>\n",
       "      <td>ziamid_85.63</td>\n",
       "      <td>obgnme</td>\n",
       "      <td>5.370359e+03</td>\n",
       "      <td>5316.665738</td>\n",
       "      <td>53.693262</td>\n",
       "      <td>1.0</td>\n",
       "    </tr>\n",
       "    <tr>\n",
       "      <th>ziamid_86.01</th>\n",
       "      <td>ziamid_86.01</td>\n",
       "      <td>obgnme</td>\n",
       "      <td>1.945650e-05</td>\n",
       "      <td>-0.036598</td>\n",
       "      <td>0.036618</td>\n",
       "      <td>1.0</td>\n",
       "    </tr>\n",
       "    <tr>\n",
       "      <th>ziamid_87.08</th>\n",
       "      <td>ziamid_87.08</td>\n",
       "      <td>obgnme</td>\n",
       "      <td>7.531126e-05</td>\n",
       "      <td>-0.086847</td>\n",
       "      <td>0.086923</td>\n",
       "      <td>1.0</td>\n",
       "    </tr>\n",
       "    <tr>\n",
       "      <th>ziamid_87.89</th>\n",
       "      <td>ziamid_87.89</td>\n",
       "      <td>obgnme</td>\n",
       "      <td>1.184261e-04</td>\n",
       "      <td>-0.140582</td>\n",
       "      <td>0.140700</td>\n",
       "      <td>1.0</td>\n",
       "    </tr>\n",
       "    <tr>\n",
       "      <th>ziatop_85.63</th>\n",
       "      <td>ziatop_85.63</td>\n",
       "      <td>obgnme</td>\n",
       "      <td>5.370605e+03</td>\n",
       "      <td>5324.438394</td>\n",
       "      <td>46.166606</td>\n",
       "      <td>1.0</td>\n",
       "    </tr>\n",
       "    <tr>\n",
       "      <th>ziatop_86.01</th>\n",
       "      <td>ziatop_86.01</td>\n",
       "      <td>obgnme</td>\n",
       "      <td>6.098139e-05</td>\n",
       "      <td>-0.046648</td>\n",
       "      <td>0.046709</td>\n",
       "      <td>1.0</td>\n",
       "    </tr>\n",
       "    <tr>\n",
       "      <th>ziatop_87.08</th>\n",
       "      <td>ziatop_87.08</td>\n",
       "      <td>obgnme</td>\n",
       "      <td>2.824748e-04</td>\n",
       "      <td>-0.106851</td>\n",
       "      <td>0.107133</td>\n",
       "      <td>1.0</td>\n",
       "    </tr>\n",
       "    <tr>\n",
       "      <th>ziatop_87.89</th>\n",
       "      <td>ziatop_87.89</td>\n",
       "      <td>obgnme</td>\n",
       "      <td>4.438388e-04</td>\n",
       "      <td>-0.170584</td>\n",
       "      <td>0.171028</td>\n",
       "      <td>1.0</td>\n",
       "    </tr>\n",
       "  </tbody>\n",
       "</table>\n",
       "<p>1328 rows × 6 columns</p>\n",
       "</div>"
      ],
      "text/plain": [
       "                      name   group      measured     modelled    residual  \\\n",
       "name                                                                        \n",
       "a001                  a001  obgnme  5.524717e+03  5515.260601    9.456399   \n",
       "a002                  a002  obgnme  5.227227e+03  5220.806835    6.420165   \n",
       "a003                  a003  obgnme  5.260892e+03  5221.576771   39.315229   \n",
       "a005                  a005  obgnme  5.465481e+03  5453.810542   11.670458   \n",
       "a006                  a006  obgnme  5.500308e+03  5485.280405   15.027595   \n",
       "a007                  a007  obgnme  5.254099e+03  5218.176713   35.922287   \n",
       "a008                  a008  obgnme  5.274993e+03  5221.189367   53.803633   \n",
       "a013                  a013  obgnme  5.222653e+03  5201.644829   21.008171   \n",
       "a014                  a014  obgnme  5.226907e+03  5201.399616   25.507384   \n",
       "a017                  a017  obgnme  5.390671e+03  5246.816837  143.854163   \n",
       "a019                  a019  obgnme  5.399138e+03  5359.634202   39.503798   \n",
       "a021                  a021  obgnme  5.227142e+03  5196.432196   30.709804   \n",
       "a022                  a022  obgnme  5.281404e+03  5283.878570   -2.474570   \n",
       "a024                  a024  obgnme  5.395521e+03  5352.524329   42.996671   \n",
       "a025                  a025  obgnme  5.418905e+03  5374.497930   44.407070   \n",
       "a028                  a028  obgnme  5.370526e+03  5328.625718   41.900282   \n",
       "a032                  a032  obgnme  5.374661e+03  5342.141463   32.519537   \n",
       "a039                  a039  obgnme  5.306561e+03  5274.573942   31.987058   \n",
       "a041                  a041  obgnme  5.293573e+03  5272.611206   20.961794   \n",
       "a043                  a043  obgnme  5.200382e+03  5180.643477   19.738523   \n",
       "a045                  a045  obgnme  5.274732e+03  5238.720378   36.011622   \n",
       "a047                  a047  obgnme  5.198878e+03  5175.518176   23.359824   \n",
       "a049                  a049  obgnme  5.242889e+03  5204.604287   38.284713   \n",
       "a054                  a054  obgnme  5.216373e+03  5213.303663    3.069337   \n",
       "a056                  a056  obgnme  5.196596e+03  5163.962210   32.633790   \n",
       "a057                  a057  obgnme  5.125307e+03  5114.788885   10.518115   \n",
       "a060                  a060  obgnme  5.128988e+03  5126.938178    2.049822   \n",
       "a066                  a066  obgnme  5.070194e+03  5063.313476    6.880524   \n",
       "a068                  a068  obgnme  5.068429e+03  5056.146933   12.282067   \n",
       "a069                  a069  obgnme  5.067608e+03  5063.401091    4.206909   \n",
       "...                    ...     ...           ...          ...         ...   \n",
       "intlb3_96.84  intlb3_96.84  obgnme -9.513073e-04    -3.478937    3.477986   \n",
       "intlb3_97.25  intlb3_97.25  obgnme -1.158664e-03    -3.152139    3.150980   \n",
       "intlb3_97.84  intlb3_97.84  obgnme -1.620155e-03    -3.728773    3.727153   \n",
       "intlb3_98.25  intlb3_98.25  obgnme -1.810187e-03    -3.332630    3.330819   \n",
       "intlb3_98.92  intlb3_98.92  obgnme -2.313886e-03    -3.647321    3.645007   \n",
       "intlb3_99.25  intlb3_99.25  obgnme -2.477930e-03    -3.114424    3.111946   \n",
       "sadep_85.63    sadep_85.63  obgnme  5.273422e+03  5221.768115   51.653885   \n",
       "sadep_86.01    sadep_86.01  obgnme -1.194867e-07    -0.001135    0.001135   \n",
       "sadep_87.08    sadep_87.08  obgnme -4.732765e-07     0.003601   -0.003602   \n",
       "sadep_87.89    sadep_87.89  obgnme -7.584822e-07     0.002688   -0.002689   \n",
       "samid_85.63    samid_85.63  obgnme  5.273505e+03  5229.158504   44.346496   \n",
       "samid_86.01    samid_86.01  obgnme -7.019780e-07    -0.003690    0.003689   \n",
       "samid_87.08    samid_87.08  obgnme -2.772970e-06    -0.007338    0.007335   \n",
       "samid_87.89    samid_87.89  obgnme -4.433767e-06    -0.011817    0.011813   \n",
       "satop_85.63    satop_85.63  obgnme  5.273579e+03  5237.297804   36.281196   \n",
       "satop_86.01    satop_86.01  obgnme -9.258194e-06    -0.006574    0.006565   \n",
       "satop_87.08    satop_87.08  obgnme -3.557103e-05    -0.020033    0.019997   \n",
       "satop_87.89    satop_87.89  obgnme -5.559218e-05    -0.028728    0.028672   \n",
       "ziadep_85.63  ziadep_85.63  obgnme  5.370050e+03  5311.184709   58.865291   \n",
       "ziadep_86.01  ziadep_86.01  obgnme  5.339998e-06    -0.030853    0.030858   \n",
       "ziadep_87.08  ziadep_87.08  obgnme  2.067618e-05    -0.076597    0.076618   \n",
       "ziadep_87.89  ziadep_87.89  obgnme  3.252473e-05    -0.125342    0.125374   \n",
       "ziamid_85.63  ziamid_85.63  obgnme  5.370359e+03  5316.665738   53.693262   \n",
       "ziamid_86.01  ziamid_86.01  obgnme  1.945650e-05    -0.036598    0.036618   \n",
       "ziamid_87.08  ziamid_87.08  obgnme  7.531126e-05    -0.086847    0.086923   \n",
       "ziamid_87.89  ziamid_87.89  obgnme  1.184261e-04    -0.140582    0.140700   \n",
       "ziatop_85.63  ziatop_85.63  obgnme  5.370605e+03  5324.438394   46.166606   \n",
       "ziatop_86.01  ziatop_86.01  obgnme  6.098139e-05    -0.046648    0.046709   \n",
       "ziatop_87.08  ziatop_87.08  obgnme  2.824748e-04    -0.106851    0.107133   \n",
       "ziatop_87.89  ziatop_87.89  obgnme  4.438388e-04    -0.170584    0.171028   \n",
       "\n",
       "              weight  \n",
       "name                  \n",
       "a001             1.0  \n",
       "a002             1.0  \n",
       "a003             1.0  \n",
       "a005             1.0  \n",
       "a006             1.0  \n",
       "a007             1.0  \n",
       "a008             1.0  \n",
       "a013             1.0  \n",
       "a014             1.0  \n",
       "a017             1.0  \n",
       "a019             1.0  \n",
       "a021             1.0  \n",
       "a022             1.0  \n",
       "a024             1.0  \n",
       "a025             1.0  \n",
       "a028             1.0  \n",
       "a032             1.0  \n",
       "a039             1.0  \n",
       "a041             1.0  \n",
       "a043             1.0  \n",
       "a045             1.0  \n",
       "a047             1.0  \n",
       "a049             1.0  \n",
       "a054             1.0  \n",
       "a056             1.0  \n",
       "a057             1.0  \n",
       "a060             1.0  \n",
       "a066             1.0  \n",
       "a068             1.0  \n",
       "a069             1.0  \n",
       "...              ...  \n",
       "intlb3_96.84     1.0  \n",
       "intlb3_97.25     1.0  \n",
       "intlb3_97.84     1.0  \n",
       "intlb3_98.25     1.0  \n",
       "intlb3_98.92     1.0  \n",
       "intlb3_99.25     1.0  \n",
       "sadep_85.63      1.0  \n",
       "sadep_86.01      1.0  \n",
       "sadep_87.08      1.0  \n",
       "sadep_87.89      1.0  \n",
       "samid_85.63      1.0  \n",
       "samid_86.01      1.0  \n",
       "samid_87.08      1.0  \n",
       "samid_87.89      1.0  \n",
       "satop_85.63      1.0  \n",
       "satop_86.01      1.0  \n",
       "satop_87.08      1.0  \n",
       "satop_87.89      1.0  \n",
       "ziadep_85.63     1.0  \n",
       "ziadep_86.01     1.0  \n",
       "ziadep_87.08     1.0  \n",
       "ziadep_87.89     1.0  \n",
       "ziamid_85.63     1.0  \n",
       "ziamid_86.01     1.0  \n",
       "ziamid_87.08     1.0  \n",
       "ziamid_87.89     1.0  \n",
       "ziatop_85.63     1.0  \n",
       "ziatop_86.01     1.0  \n",
       "ziatop_87.08     1.0  \n",
       "ziatop_87.89     1.0  \n",
       "\n",
       "[1328 rows x 6 columns]"
      ]
     },
     "execution_count": 15,
     "metadata": {},
     "output_type": "execute_result"
    }
   ],
   "source": [
    "pst.res.loc[pst.nnz_obs_names,:]"
   ]
  },
  {
   "cell_type": "code",
   "execution_count": 11,
   "metadata": {},
   "outputs": [
    {
     "data": {
      "text/plain": [
       "Text(0,0.5,'$\\\\phi$')"
      ]
     },
     "execution_count": 11,
     "metadata": {},
     "output_type": "execute_result"
    },
    {
     "data": {
      "image/png": "[encoded data removed]",
      "text/plain": [
       "<matplotlib.figure.Figure at 0x267e5f87a20>"
      ]
     },
     "metadata": {},
     "output_type": "display_data"
    }
   ],
   "source": [
    "df = pd.read_csv(os.path.join(working_dir,pst_name.replace(\".pst\",\".iobj\")))\n",
    "ax = plt.subplot(111)\n",
    "ax.plot(df.model_runs_completed,df.total_phi,marker='.')\n",
    "ax.set_xlabel(\"model runs\")\n",
    "ax.set_ylabel(\"$\\phi$\")"
   ]
  },
  {
   "cell_type": "code",
   "execution_count": 8,
   "metadata": {},
   "outputs": [
    {
     "data": {
      "text/plain": [
       "(4845.0810116997791, 5303.7609883002206)"
      ]
     },
     "execution_count": 8,
     "metadata": {},
     "output_type": "execute_result"
    },
    {
     "data": {
      "image/png": "[encoded data removed]",
      "text/plain": [
       "<matplotlib.figure.Figure at 0x1164f93d0>"
      ]
     },
     "metadata": {},
     "output_type": "display_data"
    }
   ],
   "source": [
    "ax = plt.subplot(111,aspect=\"equal\") \n",
    "wl_names = [n for n in pst.nnz_obs_names if n.startswith(\"c\")]\n",
    "ax.scatter(pst.res.loc[wl_names,\"modelled\"],pst.res.loc[wl_names,\"measured\"],marker='.')\n",
    "ylim,xlim = ax.get_ylim(),ax.get_xlim()\n",
    "mn = min(ylim[0],xlim[0])\n",
    "mx = max(ylim[1],xlim[1])\n",
    "ax.plot([mn,mx],[mn,mx])\n",
    "ax.set_ylim(mn,mx)\n",
    "ax.set_xlim(mn,mx)"
   ]
  },
  {
   "cell_type": "markdown",
   "metadata": {},
   "source": [
    "### check out the parameter values:"
   ]
  },
  {
   "cell_type": "code",
   "execution_count": 12,
   "metadata": {},
   "outputs": [
    {
     "data": {
      "text/plain": [
       "[<matplotlib.lines.Line2D at 0x267e891bd30>]"
      ]
     },
     "execution_count": 12,
     "metadata": {},
     "output_type": "execute_result"
    },
    {
     "data": {
      "image/png": "[encoded data removed]",
      "text/plain": [
       "<matplotlib.figure.Figure at 0x267e5ec65f8>"
      ]
     },
     "metadata": {},
     "output_type": "display_data"
    }
   ],
   "source": [
    "df_paru = pd.read_csv(os.path.join(working_dir,pst_name.replace(\".pst\",\".par.usum.csv\")),index_col=0)\n",
    "hk_pars = [p.upper() for p in pst.par_names if p.startswith(\"hk\")]\n",
    "df_hk = df_paru.loc[hk_pars,:]\n",
    "ax = pyemu.helpers.plot_summary_distributions(df_hk,label_post=True)\n",
    "mn = np.log10(pst.parameter_data.loc[hk_pars[0].lower(),\"parlbnd\"])\n",
    "mx = np.log10(pst.parameter_data.loc[hk_pars[0].lower(),\"parubnd\"])\n",
    "ax.plot([mn,mn],ax.get_ylim(),\"k--\")\n",
    "ax.plot([mx,mx],ax.get_ylim(),\"k--\")"
   ]
  },
  {
   "cell_type": "markdown",
   "metadata": {},
   "source": [
    "### If lots of HK pars are at their bounds, that's not a good sign.  We should probably see how the ``HK`` field looks:"
   ]
  },
  {
   "cell_type": "code",
   "execution_count": 8,
   "metadata": {},
   "outputs": [
    {
     "name": "stdout",
     "output_type": "stream",
     "text": [
      "hk_layer_1.ref 0.99999998 1.0 -1e+30\n"
     ]
    },
    {
     "name": "stderr",
     "output_type": "stream",
     "text": [
      "/Users/rishijumani/anaconda2/lib/python2.7/site-packages/pyemu/utils/gw_utils.py:283: UserWarning: fac2real has moved to geostats\n",
      "  warnings.warn(\"fac2real has moved to geostats\")\n",
      "/Users/rishijumani/anaconda2/lib/python2.7/site-packages/pyemu/utils/gw_utils.py:250: UserWarning: pp_file_to_dataframe has moved to pp_utils\n",
      "  warnings.warn(\"pp_file_to_dataframe has moved to pp_utils\")\n"
     ]
    }
   ],
   "source": [
    "os.chdir(working_dir)\n",
    "pst.parrep(pst_name.replace(\".pst\",\".parb\"))\n",
    "#pyemu.pst_utils.write_parvals_in_tplfiles(pst)\n",
    "pyemu.gw_utils.fac2real(\"hk1pp.dat\",factors_file=\"hk1pp.dat.fac\",out_file=\"hk_layer_1.ref\")\n",
    "os.chdir(\"..\")"
   ]
  },
  {
   "cell_type": "code",
   "execution_count": 9,
   "metadata": {},
   "outputs": [
    {
     "name": "stderr",
     "output_type": "stream",
     "text": [
      "/Users/rishijumani/anaconda2/lib/python2.7/site-packages/pyemu/utils/gw_utils.py:256: UserWarning: pp_tpl_to_dataframe has moved to pp_utils\n",
      "  warnings.warn(\"pp_tpl_to_dataframe has moved to pp_utils\")\n"
     ]
    }
   ],
   "source": [
    "df_pp = pyemu.gw_utils.pp_tpl_to_dataframe(os.path.join(working_dir,\"hk1pp.dat.tpl\"))"
   ]
  },
  {
   "cell_type": "code",
   "execution_count": 10,
   "metadata": {},
   "outputs": [
    {
     "name": "stderr",
     "output_type": "stream",
     "text": [
      "/Users/rishijumani/anaconda2/lib/python2.7/site-packages/numpy/core/records.py:507: FutureWarning: Numpy has detected that you may be viewing or writing to an array returned by selecting multiple fields in a structured array. \n",
      "\n",
      "This code may break in numpy 1.13 because this will return a view instead of a copy -- see release notes for details.\n",
      "  return obj.view(dtype=(self.dtype.type, obj.dtype))\n"
     ]
    }
   ],
   "source": [
    "m = flopy.modflow.Modflow.load('name.nam',model_ws=working_dir)"
   ]
  },
  {
   "cell_type": "code",
   "execution_count": 11,
   "metadata": {},
   "outputs": [
    {
     "data": {
      "text/plain": [
       "<flopy.utils.util_array.Util2d at 0x112aa5150>"
      ]
     },
     "execution_count": 11,
     "metadata": {},
     "output_type": "execute_result"
    }
   ],
   "source": [
    "m.lpf.hk[1]"
   ]
  },
  {
   "cell_type": "code",
   "execution_count": 12,
   "metadata": {},
   "outputs": [
    {
     "data": {
      "text/plain": [
       "<matplotlib.collections.PathCollection at 0x106905510>"
      ]
     },
     "execution_count": 12,
     "metadata": {},
     "output_type": "execute_result"
    },
    {
     "data": {
      "image/png": "[encoded data removed]",
      "text/plain": [
       "<matplotlib.figure.Figure at 0x10686ed10>"
      ]
     },
     "metadata": {},
     "output_type": "display_data"
    }
   ],
   "source": [
    "ax = m.lpf.hk[1].plot(colorbar=True,alpha=0.5)\n",
    "ax.scatter(df_pp.x,df_pp.y,marker='x')"
   ]
  },
  {
   "cell_type": "markdown",
   "metadata": {},
   "source": [
    "### Watch out for overfitting if you specified lots of parameters, you may be able to fit the observations really well - too well.  \n",
    "\n",
    "### Even if you are able to measure water levels very precisely, the model may have problems (model error), so we shouldn't expect the model to reproduce the observations so well.  But how do we control this overfitting??? "
   ]
  },
  {
   "cell_type": "code",
   "execution_count": null,
   "metadata": {},
   "outputs": [],
   "source": []
  }
 ],
 "metadata": {
  "anaconda-cloud": {},
  "kernelspec": {
   "display_name": "Python 2",
   "language": "python",
   "name": "python2"
  },
  "language_info": {
   "codemirror_mode": {
    "name": "ipython",
    "version": 2
   },
   "file_extension": ".py",
   "mimetype": "text/x-python",
   "name": "python",
   "nbconvert_exporter": "python",
   "pygments_lexer": "ipython2",
   "version": "2.7.14"
  }
 },
 "nbformat": 4,
 "nbformat_minor": 1
}
